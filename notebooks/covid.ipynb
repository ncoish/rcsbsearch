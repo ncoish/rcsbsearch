{
 "cells": [
  {
   "cell_type": "markdown",
   "id": "metallic-memphis",
   "metadata": {},
   "source": [
    "# rcsbsearch\n",
    "\n",
    "Access the RCSB advanced search from python: [rcsbsearch.readthedocs.io](https://rcsbsearch.readthedocs.io)\n",
    "\n",
    "    pip install rcsbsearch\n",
    "    \n",
    "## Demo\n",
    "\n",
    "We are interested in how the antiviral drug boceprevir interacts with Covid-19. \n",
    "- Source Organism is \"COVID-19\"\n",
    "- Structure title contains \"protease\"\n",
    "- Bound to ligand \"Boceprevir\"\n",
    "\n",
    "[RCSB Query](http://www.rcsb.org/search?request=%7B%22query%22%3A%7B%22type%22%3A%22group%22%2C%22logical_operator%22%3A%22and%22%2C%22nodes%22%3A%5B%7B%22type%22%3A%22terminal%22%2C%22service%22%3A%22text%22%2C%22parameters%22%3A%7B%22attribute%22%3A%22rcsb_entity_source_organism.taxonomy_lineage.name%22%2C%22operator%22%3A%22exact_match%22%2C%22value%22%3A%22COVID-19%22%2C%22negation%22%3Afalse%7D%2C%22node_id%22%3A0%7D%2C%7B%22type%22%3A%22terminal%22%2C%22service%22%3A%22text%22%2C%22parameters%22%3A%7B%22value%22%3A%22protease%22%2C%22negation%22%3Afalse%7D%2C%22node_id%22%3A1%7D%2C%7B%22type%22%3A%22terminal%22%2C%22service%22%3A%22text%22%2C%22parameters%22%3A%7B%22attribute%22%3A%22chem_comp.name%22%2C%22operator%22%3A%22contains_words%22%2C%22value%22%3A%22Boceprevir%22%2C%22negation%22%3Afalse%7D%2C%22node_id%22%3A2%7D%5D%7D%2C%22return_type%22%3A%22entry%22%2C%22request_info%22%3A%7B%22query_id%22%3A%2270e677a6376b4c5eba8b4f2b73866c92%22%2C%22src%22%3A%22ui%22%7D%7D)"
   ]
  },
  {
   "cell_type": "code",
   "execution_count": 1,
   "id": "married-burden",
   "metadata": {},
   "outputs": [
    {
     "data": {
      "application/vnd.jupyter.widget-view+json": {
       "model_id": "0402505eff634df58b1f636f5f277d19",
       "version_major": 2,
       "version_minor": 0
      },
      "text/plain": []
     },
     "metadata": {},
     "output_type": "display_data"
    }
   ],
   "source": [
    "from rcsbsearch import rcsb_attributes as attrs, TextQuery\n",
    "import nglview"
   ]
  },
  {
   "cell_type": "markdown",
   "id": "collectible-thread",
   "metadata": {},
   "source": [
    "## Operator syntax\n",
    "- Uses python comparison operators for basic attributes (`==`, `<`, `<=`, etc)\n",
    "- Combine using set operators (`&`, `|`, `~`, etc)\n",
    "- Execute queries as functions"
   ]
  },
  {
   "cell_type": "code",
   "execution_count": 2,
   "id": "confidential-behavior",
   "metadata": {},
   "outputs": [
    {
     "data": {
      "text/plain": [
       "['6WNP', '7K40']"
      ]
     },
     "execution_count": 2,
     "metadata": {},
     "output_type": "execute_result"
    }
   ],
   "source": [
    "q1 = attrs.rcsb_entity_source_organism.taxonomy_lineage.name == \"COVID-19\"\n",
    "q2 = TextQuery(\"protease\")\n",
    "q3 = attrs.chem_comp.name.contains_words(\"Boceprevir\")\n",
    "q4 = attrs.rcsb_entry_info.resolution_combined > 1.5\n",
    "query = q1 & q2 & q3 & ~q4\n",
    "\n",
    "list(query())"
   ]
  },
  {
   "cell_type": "code",
   "execution_count": 3,
   "id": "unauthorized-judge",
   "metadata": {
    "scrolled": true
   },
   "outputs": [
    {
     "data": {
      "application/vnd.jupyter.widget-view+json": {
       "model_id": "b3b3d3efdc9b414f8a2a4d7a6de1474a",
       "version_major": 2,
       "version_minor": 0
      },
      "text/plain": [
       "NGLWidget()"
      ]
     },
     "metadata": {},
     "output_type": "display_data"
    }
   ],
   "source": [
    "nglview.show_pdbid('7brp')"
   ]
  },
  {
   "cell_type": "markdown",
   "id": "uniform-allen",
   "metadata": {},
   "source": [
    "## Fluent syntax\n",
    "\n",
    "A second syntax is available with a [fluent interface](https://en.wikipedia.org/wiki/Fluent_interface), similar to popular data science packages like tidyverse and Apache Spark. Function calls  are chained together.\n",
    "\n",
    "Here's an example around a second antiviral, remdesivir. The drug interferes with RNA polymerase, replacing an adenine and causing early chain termination. When integrated into RNA, the nucleotide formed from remdesivir has residue code F86."
   ]
  },
  {
   "cell_type": "code",
   "execution_count": 4,
   "id": "irish-navigator",
   "metadata": {
    "scrolled": true
   },
   "outputs": [
    {
     "name": "stderr",
     "output_type": "stream",
     "text": [
      "100%|██████████| 1/1 [00:00<?, ?it/s]\n"
     ]
    },
    {
     "data": {
      "text/plain": [
       "['7L1F', '7C2K', '7B3C', '7B3B']"
      ]
     },
     "execution_count": 4,
     "metadata": {},
     "output_type": "execute_result"
    }
   ],
   "source": [
    "attrs.struct.title.contains_phrase(\"RNA polymerase\")\\\n",
    "    .or_(attrs.struct.title).contains_words(\"RdRp\")\\\n",
    "    .and_(attrs.rcsb_chem_comp_container_identifiers.comp_id).exact_match(\"F86\")\\\n",
    "    .and_(attrs.rcsb_entity_source_organism.taxonomy_lineage.name).exact_match(\"COVID-19\")\\\n",
    "    .exec()\\\n",
    "    .iquery()"
   ]
  },
  {
   "cell_type": "code",
   "execution_count": 5,
   "id": "genuine-partner",
   "metadata": {
    "scrolled": true
   },
   "outputs": [
    {
     "data": {
      "application/vnd.jupyter.widget-view+json": {
       "model_id": "5bb2c508ad044d1b8e3ef6f0a3e6fece",
       "version_major": 2,
       "version_minor": 0
      },
      "text/plain": [
       "NGLWidget()"
      ]
     },
     "metadata": {},
     "output_type": "display_data"
    }
   ],
   "source": [
    "view = nglview.show_pdbid('7B3C', default_representation=False)\n",
    "#view.get_state()['_camera_orientation']\n",
    "o = [6, 3, 23, 0, 23, 1, -6, 0, -2, 24, -2, 0, -84, -92, -109, 1]\n",
    "view.control.orient(o)\n",
    "view.add_surface(sele=\"protein\", opacity=.8, color=\"electrostatic\")\n",
    "view.add_cartoon(sele=\"rna\", color=\"cyan\")\n",
    "view.add_licorice(sele=\"rna\", color=\"cyan\")\n",
    "view.add_spacefill(sele=\"F86\")\n",
    "view"
   ]
  },
  {
   "cell_type": "markdown",
   "id": "distant-graduate",
   "metadata": {},
   "source": [
    "## Try it!\n",
    "\n",
    "[rcsbsearch.readthedocs.io](rcsbsearch.readthedocs.io)"
   ]
  }
 ],
 "metadata": {
  "kernelspec": {
   "display_name": "Python [conda env:rcsbsearch-demo]",
   "language": "python",
   "name": "conda-env-rcsbsearch-demo-py"
  },
  "language_info": {
   "codemirror_mode": {
    "name": "ipython",
    "version": 3
   },
   "file_extension": ".py",
   "mimetype": "text/x-python",
   "name": "python",
   "nbconvert_exporter": "python",
   "pygments_lexer": "ipython3",
   "version": "3.7.10"
  },
  "toc": {
   "base_numbering": 1,
   "nav_menu": {},
   "number_sections": true,
   "sideBar": true,
   "skip_h1_title": false,
   "title_cell": "Table of Contents",
   "title_sidebar": "Contents",
   "toc_cell": false,
   "toc_position": {},
   "toc_section_display": true,
   "toc_window_display": false
  },
  "varInspector": {
   "cols": {
    "lenName": 16,
    "lenType": 16,
    "lenVar": 40
   },
   "kernels_config": {
    "python": {
     "delete_cmd_postfix": "",
     "delete_cmd_prefix": "del ",
     "library": "var_list.py",
     "varRefreshCmd": "print(var_dic_list())"
    },
    "r": {
     "delete_cmd_postfix": ") ",
     "delete_cmd_prefix": "rm(",
     "library": "var_list.r",
     "varRefreshCmd": "cat(var_dic_list()) "
    }
   },
   "types_to_exclude": [
    "module",
    "function",
    "builtin_function_or_method",
    "instance",
    "_Feature"
   ],
   "window_display": false
  }
 },
 "nbformat": 4,
 "nbformat_minor": 5
}
